{
 "cells": [
  {
   "cell_type": "markdown",
   "id": "8bf72b81-b6b7-4bf3-8b4f-82579d525c8a",
   "metadata": {},
   "source": [
    "# CBSAs Compare and Contrast"
   ]
  },
  {
   "cell_type": "code",
   "execution_count": 1,
   "id": "e6da25d7-aaa7-4fa1-a161-91802f63c2cc",
   "metadata": {},
   "outputs": [],
   "source": [
    "#import functions\n",
    "import os\n",
    "import sys\n",
    "\n",
    "sys.path.append(\n",
    "    os.path.join(os.path.abspath(os.path.join(os.path.curdir, os.path.pardir)))\n",
    ")\n",
    "\n",
    "#censusdis\n",
    "from collections import OrderedDict\n",
    "\n",
    "import geopandas as gpd\n",
    "import matplotlib.pyplot as plt\n",
    "\n",
    "from typing import Optional\n",
    "\n",
    "import censusdis.data as ced\n",
    "import censusdis.maps as cem\n",
    "import censusdis.values as cev\n",
    "import censusdis.geography as cgeo\n",
    "from censusdis import states\n",
    "from censusdis.maps import ShapeReader, plot_us_boundary\n",
    "import censusdis.maps as cmap\n",
    "\n",
    "\n",
    "# Make sure it is there.\n",
    "from censusdis.values import ALL_SPECIAL_VALUES\n",
    "\n",
    "# _______________________________________________________________________\n",
    "\n",
    "#standard packages\n",
    "import pandas as pd\n",
    "import numpy as np\n",
    "import math\n",
    "from math import pi, sqrt\n",
    "import matplotlib.pyplot as plt\n",
    "# import pygwalker as pyg\n",
    "\n",
    "# import seaborn as sns\n",
    "from sklearn.cluster import KMeans\n",
    "from sklearn.preprocessing import StandardScaler\n",
    "import datetime\n",
    "import time\n",
    "# from tqdm import tqdm, trange\n",
    "\n",
    "#gis packages\n",
    "import osmnx as ox\n",
    "import logging as lg\n",
    "ox.settings.log_console=True #use cache to avoid overloading the server\n",
    "# ox.settings.memory_cache=True #use cache to avoid overloading the server\n",
    "ox.settings.memory = 4294967296 #set memory cache to 4GB\n",
    "\n",
    "from shapely.geometry import Point\n",
    "import folium\n",
    "import networkx as nx\n",
    "## future libaries\n",
    "# import contextily as cx\n",
    "# import fiona\n",
    "# from pandana.loaders import osm\n",
    "# import momepy\n",
    "# import missingno as msno\n",
    "# from us import states\n",
    "# import imageio\n",
    "\n",
    "import warnings\n",
    "warnings.filterwarnings(\"ignore\")\n",
    "\n",
    "%matplotlib inline\n",
    "ox.__version__\n",
    "\n",
    "\n",
    "\n",
    "pd.set_option('display.max_colwidth', 50)\n",
    "pd.set_option('display.width', 1000)\n",
    "pd.set_option('display.max_columns', None)\n",
    "pd.set_option('display.max_rows', 50)"
   ]
  },
  {
   "cell_type": "markdown",
   "id": "c675cce0-7650-4411-a399-e0729f0a714f",
   "metadata": {},
   "source": [
    "# Load Data Set"
   ]
  },
  {
   "cell_type": "markdown",
   "id": "0f74cd59-283d-429d-aa06-64457e65620f",
   "metadata": {},
   "source": [
    "# Pick "
   ]
  },
  {
   "cell_type": "code",
   "execution_count": null,
   "id": "389c4b2d-d114-47a7-bcdd-0ee61df511dc",
   "metadata": {},
   "outputs": [],
   "source": []
  }
 ],
 "metadata": {
  "kernelspec": {
   "display_name": "Python 3 (ipykernel)",
   "language": "python",
   "name": "python3"
  },
  "language_info": {
   "codemirror_mode": {
    "name": "ipython",
    "version": 3
   },
   "file_extension": ".py",
   "mimetype": "text/x-python",
   "name": "python",
   "nbconvert_exporter": "python",
   "pygments_lexer": "ipython3",
   "version": "3.12.2"
  }
 },
 "nbformat": 4,
 "nbformat_minor": 5
}
