{
 "cells": [
  {
   "cell_type": "markdown",
   "id": "545be62d-080d-447e-9308-b51aef32dfda",
   "metadata": {},
   "source": [
    "# Produce Geo x File Matrix"
   ]
  },
  {
   "cell_type": "code",
   "execution_count": null,
   "id": "910b5119-237b-4197-80d8-952b56ab59e2",
   "metadata": {},
   "outputs": [],
   "source": [
    "#import functions\n",
    "import os\n",
    "import sys\n",
    "\n",
    "sys.path.append(\n",
    "    os.path.join(os.path.abspath(os.path.join(os.path.curdir, os.path.pardir)))\n",
    ")\n",
    "\n",
    "#censusdis\n",
    "from collections import OrderedDict\n",
    "\n",
    "import geopandas as gpd\n",
    "import matplotlib.pyplot as plt\n",
    "\n",
    "from typing import Optional\n",
    "\n",
    "import censusdis.data as ced\n",
    "import censusdis.maps as cem\n",
    "import censusdis.values as cev\n",
    "import censusdis.geography as cgeo\n",
    "from censusdis import states\n",
    "from censusdis.maps import ShapeReader, plot_us_boundary\n",
    "import censusdis.maps as cmap\n",
    "\n",
    "\n",
    "# Make sure it is there.\n",
    "from censusdis.values import ALL_SPECIAL_VALUES\n",
    "\n",
    "# _______________________________________________________________________\n",
    "\n",
    "#standard packages\n",
    "import pandas as pd\n",
    "import numpy as np\n",
    "import math\n",
    "import glob\n",
    "from math import pi, sqrt\n",
    "\n",
    "#plotting\n",
    "import plotly.express as px\n",
    "import matplotlib.pyplot as plt\n",
    "# import pygwalker as pyg\n",
    "\n",
    "# import seaborn as sns\n",
    "from sklearn.cluster import KMeans\n",
    "from sklearn.preprocessing import StandardScaler\n",
    "import datetime\n",
    "import time\n",
    "from tqdm import tqdm, trange\n",
    "\n",
    "#gis packages\n",
    "import osmnx as ox\n",
    "import logging as lg\n",
    "ox.settings.log_console=True #use cache to avoid overloading the server\n",
    "# ox.settings.memory_cache=True #use cache to avoid overloading the server\n",
    "ox.settings.memory = 4294967296 #set memory cache to 4GB\n",
    "\n",
    "from shapely.geometry import Point\n",
    "import folium\n",
    "import networkx as nx\n",
    "\n",
    "\n",
    "## future libaries\n",
    "# import contextily as cx\n",
    "# import fiona\n",
    "# from pandana.loaders import osm\n",
    "# import momepy\n",
    "# import missingno as msno\n",
    "# from us import states\n",
    "# import imageio\n",
    "\n",
    "import warnings\n",
    "warnings.filterwarnings(\"ignore\")\n",
    "\n",
    "%matplotlib inline\n",
    "ox.__version__\n",
    "\n",
    "pd.set_option('display.max_colwidth', 50)\n",
    "pd.set_option('display.width', 1000)\n",
    "pd.set_option('display.max_columns', None)\n",
    "pd.set_option('display.max_rows', 10)"
   ]
  },
  {
   "cell_type": "markdown",
   "id": "0fbe10f4-bb43-4edb-a927-24360c3e722f",
   "metadata": {},
   "source": [
    "# Get Data from Summary Files"
   ]
  },
  {
   "cell_type": "code",
   "execution_count": null,
   "id": "8b3d4d3b-4aac-41b8-8182-a5847b217c48",
   "metadata": {},
   "outputs": [],
   "source": [
    "# IMPORT MATRIX FILE\n",
    "\n",
    "matrix = pd.read_csv(f'C:/Users/jerem/OneDrive/Documents/Git Projects/MeridianXYZ/data/census/acs/summary files/2022/Meridian_ACS522_Geos20225YR_Matrix.csv')"
   ]
  },
  {
   "cell_type": "code",
   "execution_count": null,
   "id": "49b13150-8baa-4ad8-926c-f2b86751b010",
   "metadata": {},
   "outputs": [],
   "source": [
    "matrix.head(10)"
   ]
  },
  {
   "cell_type": "code",
   "execution_count": null,
   "id": "338e448f-a6a6-4c5b-a2e5-bed6811bab1a",
   "metadata": {
    "scrolled": true
   },
   "outputs": [],
   "source": [
    "# SET VARIABLES\n",
    "DATASET = \"acs/acs5\"\n",
    "YEAR = 2021\n",
    "# YEAR_GEO = 2021 # no geo in 2022\n",
    "TOTAL_POPULATION = \"B01001_001E\"\n",
    "VARIABLES = [\"NAME\", TOTAL_POPULATION]\n",
    "\n",
    "reader = cem.ShapeReader(year=YEAR) #required for censusdis\n",
    "\n",
    "# GET BOUNDARIES FOR ALL STATES\n",
    "gdf_state_bounds = reader.read_cb_shapefile(\"us\", \"state\")\n",
    "gdf_state_bounds = gdf_state_bounds[\n",
    "    gdf_state_bounds[\"STATEFP\"].isin(states.ALL_STATES_AND_DC)\n",
    "]\n",
    "\n",
    "# Ensure the GeoDataFrame has the correct CRS\n",
    "gdf_state_bounds = gdf_state_bounds.to_crs(epsg=4269)\n",
    "\n",
    "# ESTABLISH GEOGRAPHIC REGION OF ANALYSIS\n",
    "\n",
    "# START WITH CBSAs\n",
    "gdf_cbsa = ced.download(\n",
    "    DATASET,\n",
    "    YEAR,\n",
    "    VARIABLES,\n",
    "    metropolitan_statistical_area_micropolitan_statistical_area=\"*\",\n",
    "    with_geometry=True,\n",
    ")\n",
    "\n",
    "print(gdf_cbsa.shape)\n",
    "gdf_cbsa"
   ]
  },
  {
   "cell_type": "code",
   "execution_count": null,
   "id": "f9556d54-39eb-43e6-81ba-bfca212a4b25",
   "metadata": {},
   "outputs": [],
   "source": [
    "gdf_cbsa_map = gdf_cbsa.set_index('NAME')\n",
    "gdf_cbsa_map"
   ]
  },
  {
   "cell_type": "code",
   "execution_count": null,
   "id": "dc34c63e-ed6d-434e-b5ae-fcec3fa11bae",
   "metadata": {},
   "outputs": [],
   "source": [
    "fig = px.choropleth_mapbox(gdf_cbsa_map,\n",
    "                           geojson=gdf_cbsa_map.geometry,\n",
    "                           locations=gdf_cbsa_map.index,\n",
    "                           color=\"B01001_001E\",\n",
    "                           center={\"lat\": 38.191743794717325, \"lon\": -97.56042861287186},\n",
    "                           mapbox_style=\"open-street-map\",\n",
    "                           zoom=2,\n",
    "                           width=1000, height=800)\n",
    "\n",
    "fig.update_layout(\n",
    "    margin=dict(l=20, r=20, t=40, b=20, pad=10),\n",
    "    paper_bgcolor=\"Gray\",\n",
    ")\n",
    "fig.show()"
   ]
  },
  {
   "cell_type": "code",
   "execution_count": null,
   "id": "a0715a90-1932-4c3e-8573-2fe4ed2ca6f9",
   "metadata": {},
   "outputs": [],
   "source": [
    "df = pd.read_parquet(f'C:/Users/jerem/OneDrive/Documents/Git Projects/MeridianXYZ/data/census/acs/summary files/2022/Meridian_variables_list_df.parquet')\n",
    "df"
   ]
  },
  {
   "cell_type": "code",
   "execution_count": null,
   "id": "693c5b1f-2f57-496f-9f44-60d56a1ebde2",
   "metadata": {},
   "outputs": [],
   "source": [
    "# (unsure what this code is for)\n",
    "\n",
    "# DOWNLOAD DATA BASED ON GEOLEVELS, STORE INTO DIFFERENT DATA FRAMES\n",
    "\n",
    "matrix_cbsa = matrix[['CBSA']].dropna()\n",
    "\n",
    "print(len(matrix))\n",
    "print(len(matrix_cbsa))\n",
    "matrix_cbsa\n",
    "\n",
    "# GATHER DATA FROM OSM BASED ON THE GEOGRAPHIC AREA OF INTEREST\n",
    "\n",
    "\n",
    "# CREATE FEATURE SELECTION BASED ON DIFFERENT TYPES OF MEASUREMENT CRITERIA\n",
    "\n",
    "\n",
    "# CREATE NATIONAL AND REGIONAL STATISTICAL COMPARISONS\n",
    "\n",
    "\n",
    "# CREATE PERFORMANCE CRITERIA MEASUREMENTS\n",
    "\n",
    "\n",
    "# CREATE TYPOLOGIES BASED ON PERFORMANCE CRITERIA MEASUREMENTS"
   ]
  },
  {
   "cell_type": "markdown",
   "id": "9856f98b-aefc-4ec5-af4d-d2a85fbd4de8",
   "metadata": {},
   "source": [
    "# Tutorial From here down"
   ]
  },
  {
   "cell_type": "code",
   "execution_count": null,
   "id": "9e7eb92e-91b8-437c-8743-6144060aff65",
   "metadata": {},
   "outputs": [],
   "source": [
    "# download shell file and keep only General Model rows\n",
    "\n",
    "acs22_5_shell_genmodel = pd.read_excel('C:/Users/jerem/OneDrive/Documents/Git Projects/MeridianXYZ/data/census/acs/summary files/2022/ACS20225YR_Table_Shells.xlsx', sheet_name='ACS20225YR_Table_Shells')"
   ]
  },
  {
   "cell_type": "code",
   "execution_count": null,
   "id": "23cbc6d4-e747-4951-8a02-4b07db368acb",
   "metadata": {},
   "outputs": [],
   "source": [
    "\n",
    "fig = px.bar(x=[\"a\", \"b\", \"c\"], y=[1, 3, 2])\n",
    "fig.write_html('first_figure.html', auto_open=True)"
   ]
  },
  {
   "cell_type": "code",
   "execution_count": null,
   "id": "2c05b441-bc3e-4ef0-955c-dfc33d620a17",
   "metadata": {},
   "outputs": [],
   "source": [
    "fig = px.bar(x=[\"a\", \"b\", \"c\"], y=[1, 3, 2])\n",
    "fig.show()"
   ]
  },
  {
   "cell_type": "code",
   "execution_count": null,
   "id": "bec023b2-857a-4220-8254-83a2daf55d94",
   "metadata": {},
   "outputs": [],
   "source": [
    "df = px.data.iris()\n",
    "fig = px.scatter(df, x=\"sepal_width\", y=\"sepal_length\", color=\"species\")\n",
    "fig.show()"
   ]
  },
  {
   "cell_type": "code",
   "execution_count": null,
   "id": "b04007ce-9d12-4bde-a6b1-3249b5900451",
   "metadata": {},
   "outputs": [],
   "source": [
    "\n",
    "df = px.data.iris()\n",
    "fig = px.scatter(df, x=\"sepal_width\", y=\"sepal_length\", color=\"species\", marginal_y=\"box\",\n",
    "           marginal_x=\"violin\", trendline=\"ols\", template=\"simple_white\")\n",
    "fig.show()"
   ]
  },
  {
   "cell_type": "code",
   "execution_count": null,
   "id": "f608b5fd-3ffa-490d-9b47-41a0651eacb9",
   "metadata": {},
   "outputs": [],
   "source": [
    "df = px.data.election()\n",
    "geojson = px.data.election_geojson()\n",
    "\n",
    "fig = px.choropleth_mapbox(df, geojson=geojson, color=\"Bergeron\",\n",
    "                           locations=\"district\", featureidkey=\"properties.district\",\n",
    "                           center={\"lat\": 45.5517, \"lon\": -73.7073},\n",
    "                           mapbox_style=\"carto-positron\", zoom=9,\n",
    "                           width=800, height=800)\n",
    "fig.update_layout(\n",
    "    margin=dict(l=20, r=20, t=40, b=20, pad=10),\n",
    "    paper_bgcolor=\"Gray\",\n",
    ")\n",
    "fig.show()"
   ]
  },
  {
   "cell_type": "code",
   "execution_count": null,
   "id": "4241818d-84af-4f62-9213-112ccaaf5c32",
   "metadata": {},
   "outputs": [],
   "source": []
  }
 ],
 "metadata": {
  "kernelspec": {
   "display_name": "Python 3 (ipykernel)",
   "language": "python",
   "name": "python3"
  },
  "language_info": {
   "codemirror_mode": {
    "name": "ipython",
    "version": 3
   },
   "file_extension": ".py",
   "mimetype": "text/x-python",
   "name": "python",
   "nbconvert_exporter": "python",
   "pygments_lexer": "ipython3",
   "version": "3.12.2"
  }
 },
 "nbformat": 4,
 "nbformat_minor": 5
}
