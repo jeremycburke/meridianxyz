{
 "cells": [
  {
   "cell_type": "markdown",
   "id": "5e7d1019-85a0-400b-b800-f2cadb4ccccd",
   "metadata": {},
   "source": [
    "# Python Cheatsheet"
   ]
  },
  {
   "cell_type": "markdown",
   "id": "dc02923d-dffd-4110-b889-0da8c908d4b0",
   "metadata": {},
   "source": [
    "#### DROP"
   ]
  },
  {
   "cell_type": "code",
   "execution_count": null,
   "id": "0f4b86ab-7e50-412c-ae19-986cfdf5fac1",
   "metadata": {},
   "outputs": [],
   "source": [
    "# Drop columns 'A' and 'C'\n",
    "df.drop(columns=['A', 'C'], inplace=True)\n",
    "print(df)\n",
    "\n",
    "# Original DataFrame\n",
    "data = {'A': [1, 2, 3], 'B': [4, 5, 6], 'C': [7, 8, 9]}\n",
    "df = pd.DataFrame(data)\n",
    "# Create a new DataFrame without column 'C'\n",
    "new_df = df.drop(columns=['C'])\n",
    "print(new_df)"
   ]
  },
  {
   "cell_type": "code",
   "execution_count": null,
   "id": "f28f96de-ae36-4b79-b96a-cf05d00ce38d",
   "metadata": {},
   "outputs": [],
   "source": []
  },
  {
   "cell_type": "code",
   "execution_count": null,
   "id": "1c1a19b0-a299-4188-acae-c2535a99473b",
   "metadata": {},
   "outputs": [],
   "source": []
  },
  {
   "cell_type": "code",
   "execution_count": null,
   "id": "8dfee5a5-e340-4ee7-9741-79ee29a38023",
   "metadata": {},
   "outputs": [],
   "source": []
  },
  {
   "cell_type": "code",
   "execution_count": null,
   "id": "b6c2e5f4-64a5-47e4-913f-c22dd55ee071",
   "metadata": {},
   "outputs": [],
   "source": []
  },
  {
   "cell_type": "code",
   "execution_count": null,
   "id": "0525ba6e-dd08-4d1f-b17c-b2fdda124192",
   "metadata": {},
   "outputs": [],
   "source": []
  },
  {
   "cell_type": "code",
   "execution_count": null,
   "id": "a5f963e6-293f-45a3-972d-83acaffdb072",
   "metadata": {},
   "outputs": [],
   "source": []
  },
  {
   "cell_type": "code",
   "execution_count": null,
   "id": "c5faf263-4a62-4935-8e56-ea418ccbfce8",
   "metadata": {},
   "outputs": [],
   "source": []
  },
  {
   "cell_type": "code",
   "execution_count": null,
   "id": "a113ac58-81a6-4de2-947c-3369be2c241f",
   "metadata": {},
   "outputs": [],
   "source": []
  },
  {
   "cell_type": "code",
   "execution_count": null,
   "id": "84957b1e-1c02-456b-888c-12c456a01e48",
   "metadata": {},
   "outputs": [],
   "source": []
  },
  {
   "cell_type": "code",
   "execution_count": null,
   "id": "bbc47e05-0274-4bab-9077-c85dc177e772",
   "metadata": {},
   "outputs": [],
   "source": []
  }
 ],
 "metadata": {
  "kernelspec": {
   "display_name": "Python 3 (ipykernel)",
   "language": "python",
   "name": "python3"
  },
  "language_info": {
   "codemirror_mode": {
    "name": "ipython",
    "version": 3
   },
   "file_extension": ".py",
   "mimetype": "text/x-python",
   "name": "python",
   "nbconvert_exporter": "python",
   "pygments_lexer": "ipython3",
   "version": "3.12.2"
  }
 },
 "nbformat": 4,
 "nbformat_minor": 5
}
