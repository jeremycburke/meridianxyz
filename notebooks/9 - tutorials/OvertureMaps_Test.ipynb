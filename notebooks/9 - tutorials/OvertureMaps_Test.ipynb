{
 "cells": [
  {
   "cell_type": "markdown",
   "id": "545be62d-080d-447e-9308-b51aef32dfda",
   "metadata": {},
   "source": [
    "# Report - CBSA "
   ]
  },
  {
   "cell_type": "code",
   "execution_count": 9,
   "id": "910b5119-237b-4197-80d8-952b56ab59e2",
   "metadata": {},
   "outputs": [
    {
     "ename": "SyntaxError",
     "evalue": "invalid syntax (2721635842.py, line 40)",
     "output_type": "error",
     "traceback": [
      "\u001b[1;36m  Cell \u001b[1;32mIn[9], line 40\u001b[1;36m\u001b[0m\n\u001b[1;33m    import sedona.spark.*\u001b[0m\n\u001b[1;37m                        ^\u001b[0m\n\u001b[1;31mSyntaxError\u001b[0m\u001b[1;31m:\u001b[0m invalid syntax\n"
     ]
    }
   ],
   "source": [
    "#import functions\n",
    "import os\n",
    "import sys\n",
    "\n",
    "sys.path.append(\n",
    "    os.path.join(os.path.abspath(os.path.join(os.path.curdir, os.path.pardir)))\n",
    ")\n",
    "\n",
    "#censusdis\n",
    "from collections import OrderedDict\n",
    "\n",
    "import geopandas as gpd\n",
    "import matplotlib.pyplot as plt\n",
    "\n",
    "from typing import Optional\n",
    "\n",
    "import censusdis.data as ced\n",
    "import censusdis.maps as cem\n",
    "import censusdis.values as cev\n",
    "import censusdis.geography as cgeo\n",
    "from censusdis.states import STATE_MA\n",
    "from censusdis import states\n",
    "from censusdis.maps import ShapeReader, plot_us_boundary\n",
    "import censusdis.maps as cmap\n",
    "\n",
    "# OvertureMaps & DuckDB & jupySQL\n",
    "import overturemaps\n",
    "import duckdb\n",
    "import pandas as pd\n",
    "\n",
    "%load_ext sql\n",
    "conn = duckdb.connect()\n",
    "%sql conn --alias duckdb\n",
    "\n",
    "%config SqlMagic.autopandas = True\n",
    "%config SqlMagic.feedback = False\n",
    "%config SqlMagic.displaycon = False\n",
    "\n",
    "# Apache Sedona\n",
    "import sedona.spark.*\n",
    "\n",
    "# Make sure it is there.\n",
    "from censusdis.values import ALL_SPECIAL_VALUES\n",
    "\n",
    "# _______________________________________________________________________\n",
    "\n",
    "#standard packages\n",
    "import pandas as pd\n",
    "import numpy as np\n",
    "import math\n",
    "from math import pi, sqrt\n",
    "import matplotlib.pyplot as plt\n",
    "# import pygwalker as pyg\n",
    "\n",
    "# import seaborn as sns\n",
    "from sklearn.cluster import KMeans\n",
    "from sklearn.preprocessing import StandardScaler\n",
    "import datetime\n",
    "import time\n",
    "# from tqdm import tqdm, trange\n",
    "\n",
    "#gis packages\n",
    "import osmnx as ox\n",
    "import logging as lg\n",
    "ox.settings.log_console=True #use cache to avoid overloading the server\n",
    "# ox.settings.memory_cache=True #use cache to avoid overloading the server\n",
    "ox.settings.memory = 4294967296 #set memory cache to 4GB\n",
    "\n",
    "from shapely.geometry import Point\n",
    "import folium\n",
    "import networkx as nx\n",
    "## future libaries\n",
    "# import contextily as cx\n",
    "# import fiona\n",
    "# from pandana.loaders import osm\n",
    "# import momepy\n",
    "# import missingno as msno\n",
    "# from us import states\n",
    "# import imageio\n",
    "\n",
    "import warnings\n",
    "warnings.filterwarnings(\"ignore\")\n",
    "\n",
    "%matplotlib inline\n",
    "ox.__version__\n",
    "\n",
    "\n",
    "\n",
    "pd.set_option('display.max_colwidth', None)\n",
    "pd.set_option('display.width', 1000)\n",
    "pd.set_option('display.max_columns', None)\n",
    "pd.set_option('display.max_rows', 1000)"
   ]
  },
  {
   "cell_type": "code",
   "execution_count": 5,
   "id": "5fca3eda-6e07-4f44-96ca-2859bfff6359",
   "metadata": {},
   "outputs": [
    {
     "name": "stdout",
     "output_type": "stream",
     "text": [
      "Help on package overturemaps:\n",
      "\n",
      "NAME\n",
      "    overturemaps\n",
      "\n",
      "PACKAGE CONTENTS\n",
      "    cli\n",
      "    core\n",
      "\n",
      "FILE\n",
      "    c:\\users\\jerem\\miniconda3\\envs\\ox\\lib\\site-packages\\overturemaps\\__init__.py\n",
      "\n",
      "\n"
     ]
    }
   ],
   "source": [
    "help(om)"
   ]
  },
  {
   "cell_type": "code",
   "execution_count": 6,
   "id": "1ca551e1-24a2-4f2f-be3a-f168878b4de7",
   "metadata": {},
   "outputs": [
    {
     "ename": "NameError",
     "evalue": "name 'cli' is not defined",
     "output_type": "error",
     "traceback": [
      "\u001b[1;31m---------------------------------------------------------------------------\u001b[0m",
      "\u001b[1;31mNameError\u001b[0m                                 Traceback (most recent call last)",
      "Cell \u001b[1;32mIn[6], line 1\u001b[0m\n\u001b[1;32m----> 1\u001b[0m help(\u001b[43mcli\u001b[49m)\n",
      "\u001b[1;31mNameError\u001b[0m: name 'cli' is not defined"
     ]
    }
   ],
   "source": [
    "help(cli)"
   ]
  },
  {
   "cell_type": "code",
   "execution_count": null,
   "id": "1ed019dc-a25a-4cfb-8c30-dc14d3a9505a",
   "metadata": {},
   "outputs": [],
   "source": []
  },
  {
   "cell_type": "code",
   "execution_count": null,
   "id": "592febc4-fc37-41f4-a013-32a99850231e",
   "metadata": {},
   "outputs": [],
   "source": [
    "# download shell file and keep only General Model rows\n",
    "\n",
    "acs22_5_shell_genmodel = pd.read_excel('C:/Users/jerem/OneDrive/Documents/Git Projects/MeridianXYZ/data/census/acs/summary files/2022/ACS20225YR_Table_Shells.xlsx', sheet_name='ACS20225YR_Table_Shells')"
   ]
  }
 ],
 "metadata": {
  "kernelspec": {
   "display_name": "Python 3 (ipykernel)",
   "language": "python",
   "name": "python3"
  },
  "language_info": {
   "codemirror_mode": {
    "name": "ipython",
    "version": 3
   },
   "file_extension": ".py",
   "mimetype": "text/x-python",
   "name": "python",
   "nbconvert_exporter": "python",
   "pygments_lexer": "ipython3",
   "version": "3.12.2"
  }
 },
 "nbformat": 4,
 "nbformat_minor": 5
}
