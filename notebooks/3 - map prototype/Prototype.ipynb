{
 "cells": [
  {
   "cell_type": "markdown",
   "id": "227137cf-ba70-4f49-8b57-b1a8c42797cd",
   "metadata": {},
   "source": [
    "# Prototype Building"
   ]
  },
  {
   "cell_type": "code",
   "execution_count": 1,
   "id": "503fda51-a99c-4aef-a13d-f5012aed7305",
   "metadata": {},
   "outputs": [],
   "source": [
    "#import functions\n",
    "import os\n",
    "import sys\n",
    "\n",
    "sys.path.append(\n",
    "    os.path.join(os.path.abspath(os.path.join(os.path.curdir, os.path.pardir)))\n",
    ")\n",
    "\n",
    "#censusdis\n",
    "from collections import OrderedDict\n",
    "\n",
    "import geopandas as gpd\n",
    "import matplotlib.pyplot as plt\n",
    "\n",
    "from typing import Optional\n",
    "\n",
    "import censusdis.data as ced\n",
    "import censusdis.maps as cem\n",
    "import censusdis.values as cev\n",
    "import censusdis.geography as cgeo\n",
    "from censusdis.states import STATE_MA\n",
    "from censusdis import states\n",
    "from censusdis.maps import ShapeReader, plot_us_boundary\n",
    "import censusdis.maps as cmap\n",
    "\n",
    "\n",
    "# Make sure it is there.\n",
    "from censusdis.values import ALL_SPECIAL_VALUES\n",
    "\n",
    "# Leafmap\n",
    "from ipyleaflet import *\n",
    "import leafmap\n",
    "\n",
    "# _______________________________________________________________________\n",
    "\n",
    "#standard packages\n",
    "import pandas as pd\n",
    "import numpy as np\n",
    "import math\n",
    "from math import pi, sqrt\n",
    "import matplotlib.pyplot as plt\n",
    "# import pygwalker as pyg\n",
    "\n",
    "# import seaborn as sns\n",
    "from sklearn.cluster import KMeans\n",
    "from sklearn.preprocessing import StandardScaler\n",
    "import datetime\n",
    "import time\n",
    "# from tqdm import tqdm, trange\n",
    "\n",
    "#gis packages\n",
    "import osmnx as ox\n",
    "import logging as lg\n",
    "ox.settings.log_console=True #use cache to avoid overloading the server\n",
    "# ox.settings.memory_cache=True #use cache to avoid overloading the server\n",
    "ox.settings.memory = 4294967296 #set memory cache to 4GB\n",
    "\n",
    "from shapely.geometry import Point\n",
    "import folium\n",
    "import networkx as nx\n",
    "## future libaries\n",
    "# import contextily as cx\n",
    "# import fiona\n",
    "# from pandana.loaders import osm\n",
    "# import momepy\n",
    "# import missingno as msno\n",
    "# from us import states\n",
    "# import imageio\n",
    "\n",
    "import warnings\n",
    "warnings.filterwarnings(\"ignore\")\n",
    "\n",
    "%matplotlib inline\n",
    "ox.__version__\n",
    "\n",
    "\n",
    "\n",
    "pd.set_option('display.max_colwidth', None)\n",
    "pd.set_option('display.width', 1000)\n",
    "pd.set_option('display.max_columns', None)"
   ]
  },
  {
   "cell_type": "code",
   "execution_count": 2,
   "id": "58010839-f339-4ade-9861-a9d40b0a7ad0",
   "metadata": {
    "scrolled": true
   },
   "outputs": [],
   "source": [
    "# American Community Survey 5-Year Data\n",
    "# https://www.census.gov/data/developers/data-sets/acs-5year.html\n",
    "# https://api.census.gov/data/2022/acs/acs5/variables.html\n",
    "\n",
    "# The year we want data for.\n",
    "YEAR = 2021\n",
    "DATASET = \"acs/acs5\"\n",
    "\n",
    "MEDIAN_HOUSEHOLD_INCOME_VARIABLE = \"B19013_001E\"\n",
    "VARIABLES = [\"NAME\", MEDIAN_HOUSEHOLD_INCOME_VARIABLE]\n",
    "\n",
    "# SEX_AGE = \"B01001_001E\"\n",
    "# VARIABLES = [\"NAME\", SEX_AGE]\n",
    "\n",
    "gdf_cbsa = ced.download(\n",
    "    DATASET,\n",
    "    YEAR,\n",
    "    VARIABLES,\n",
    "    metropolitan_statistical_area_micropolitan_statistical_area=\"*\",\n",
    "    with_geometry=True,\n",
    ")\n",
    "\n",
    "# gdf_cbsa.head()"
   ]
  },
  {
   "cell_type": "markdown",
   "id": "989648ee-ae49-427e-85c4-5ecf769054f4",
   "metadata": {},
   "source": [
    "# Choose dataset"
   ]
  },
  {
   "cell_type": "code",
   "execution_count": null,
   "id": "2786d7a9-131e-476e-b7a8-2e81fe2f468c",
   "metadata": {},
   "outputs": [],
   "source": [
    "# download shell file and keep only General Model rows\n",
    "\n",
    "acs22_5_shell_genmodel = pd.read_excel('C:/Users/jerem/OneDrive/Documents/Git Projects/MeridianXYZ/data/census/acs/summary files/2022/ACS20225YR_Table_Shells.xlsx', sheet_name='ACS20225YR_Table_Shells')"
   ]
  },
  {
   "cell_type": "code",
   "execution_count": null,
   "id": "fff369e8-c2d7-4626-ba29-412f7f63923f",
   "metadata": {},
   "outputs": [],
   "source": [
    "acs22_5_shell_genmodel.head()"
   ]
  },
  {
   "cell_type": "markdown",
   "id": "86e0d5a3-e09d-436d-be66-984a2960e19d",
   "metadata": {},
   "source": [
    "# Down Load & Load Data"
   ]
  },
  {
   "cell_type": "code",
   "execution_count": null,
   "id": "2e2b1089-6305-4cd1-bd6c-595f5f22a8e9",
   "metadata": {},
   "outputs": [],
   "source": [
    "# CensusDIS variable download\n",
    "\n",
    "#download data based on division\n",
    "def division(\n",
    "    gdf_division = ced.download(DATASET, YEAR, VARIABLES, division=\"*\", with_geometry=True)\n",
    "    plot_map(gdf_division, \"division\", geo_label=gdf_division[\"NAME\"])"
   ]
  }
 ],
 "metadata": {
  "kernelspec": {
   "display_name": "Python 3 (ipykernel)",
   "language": "python",
   "name": "python3"
  },
  "language_info": {
   "codemirror_mode": {
    "name": "ipython",
    "version": 3
   },
   "file_extension": ".py",
   "mimetype": "text/x-python",
   "name": "python",
   "nbconvert_exporter": "python",
   "pygments_lexer": "ipython3",
   "version": "3.12.2"
  }
 },
 "nbformat": 4,
 "nbformat_minor": 5
}
